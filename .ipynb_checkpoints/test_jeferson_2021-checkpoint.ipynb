{
 "cells": [
  {
   "cell_type": "code",
   "execution_count": 1,
   "id": "helpful-semiconductor",
   "metadata": {},
   "outputs": [],
   "source": [
    "import geopandas\n",
    "import pandas"
   ]
  },
  {
   "cell_type": "code",
   "execution_count": null,
   "id": "prospective-fitness",
   "metadata": {},
   "outputs": [],
   "source": [
    "# Autocompleted in jupyter notebook \n",
    "%config Completer.use_jedi = False"
   ]
  },
  {
   "cell_type": "code",
   "execution_count": null,
   "id": "processed-talent",
   "metadata": {},
   "outputs": [],
   "source": [
    "# Assign the reading of file as a table (Panel Data)\n",
    "path = 'C:/Users/User/Desktop/vrds'\n",
    "veredas = pandas.read_pickle(path)\n",
    "\n",
    "# Print what type of data is veredas\n",
    "type(veredas)"
   ]
  },
  {
   "cell_type": "code",
   "execution_count": null,
   "id": "latest-adoption",
   "metadata": {},
   "outputs": [],
   "source": [
    "# Print the Coordinate Reference System that uses\n",
    "veredas.crs\n",
    "veredas"
   ]
  },
  {
   "cell_type": "code",
   "execution_count": null,
   "id": "accomplished-respondent",
   "metadata": {},
   "outputs": [],
   "source": [
    "# iloc: index\n",
    "# centroid:  \n",
    "# veredas.iloc[[25]].centroid.crs\n",
    "veredas.iloc[]"
   ]
  },
  {
   "cell_type": "code",
   "execution_count": null,
   "id": "advised-street",
   "metadata": {},
   "outputs": [],
   "source": [
    "vrds = pd.read_pickle('C:/Users/User/Desktop/vrds')\n"
   ]
  }
 ],
 "metadata": {
  "kernelspec": {
   "display_name": "Python 3",
   "language": "python",
   "name": "python3"
  },
  "language_info": {
   "codemirror_mode": {
    "name": "ipython",
    "version": 3
   },
   "file_extension": ".py",
   "mimetype": "text/x-python",
   "name": "python",
   "nbconvert_exporter": "python",
   "pygments_lexer": "ipython3",
   "version": "3.8.5"
  }
 },
 "nbformat": 4,
 "nbformat_minor": 5
}
