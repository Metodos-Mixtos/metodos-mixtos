{
 "cells": [
  {
   "cell_type": "markdown",
   "id": "1655acce-7205-48ae-82fc-1138562a3d0b",
   "metadata": {},
   "source": [
    "# Plantilla para crear mapas de Métodos Mixtos Consultores\n",
    "- Elaborado por: Daniel Wiesner\n",
    "- Fecha: 20 Enero 2022"
   ]
  },
  {
   "cell_type": "code",
   "execution_count": 22,
   "id": "a6767cd1-260c-42df-9ef7-bbbad6e2b037",
   "metadata": {},
   "outputs": [],
   "source": [
    "ONEDRIVE_PATH = '/Users/Daniel/OneDrive - C- ANALISIS SAS/' #Reemplazar este parámetro por la ruta en su propio PC"
   ]
  },
  {
   "cell_type": "code",
   "execution_count": 23,
   "id": "66c483b0-c1a3-445a-96e0-e9e53dd7888c",
   "metadata": {},
   "outputs": [],
   "source": [
    "import sys\n",
    "sys.path.append(ONEDRIVE_PATH + 'programacion/funciones') #Agregar la carpeta funciones al system path para poder usar los archivos comunes\n",
    "#Se importan todos los archivos necesarios para hacer mapas\n",
    "from importaciones_mapas import *\n",
    "import mapas"
   ]
  },
  {
   "cell_type": "code",
   "execution_count": 24,
   "id": "bbec426b-1244-4059-bee7-f8acae15e0f1",
   "metadata": {},
   "outputs": [],
   "source": [
    "#Crear el diccionario de rutas\n",
    "paths = mapas.diccionario_rutas(ONEDRIVE_PATH)"
   ]
  },
  {
   "cell_type": "code",
   "execution_count": 30,
   "id": "99f9fe1f-8fc8-4748-a4c8-25587326b6b1",
   "metadata": {},
   "outputs": [],
   "source": [
    "dptos = gpd.read_file(paths['deptos'])"
   ]
  },
  {
   "cell_type": "code",
   "execution_count": 31,
   "id": "b328666b-aabb-4c81-ba1f-ffb7a9fc12c2",
   "metadata": {},
   "outputs": [],
   "source": [
    "shape = dptos[dptos['DPTO_CNMBR'] == 'CUNDINAMARCA']"
   ]
  }
 ],
 "metadata": {
  "kernelspec": {
   "display_name": "Python 3 (ipykernel)",
   "language": "python",
   "name": "python3"
  },
  "language_info": {
   "codemirror_mode": {
    "name": "ipython",
    "version": 3
   },
   "file_extension": ".py",
   "mimetype": "text/x-python",
   "name": "python",
   "nbconvert_exporter": "python",
   "pygments_lexer": "ipython3",
   "version": "3.10.2"
  }
 },
 "nbformat": 4,
 "nbformat_minor": 5
}
